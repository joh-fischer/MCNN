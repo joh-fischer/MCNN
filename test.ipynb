{
 "cells": [
  {
   "cell_type": "markdown",
   "metadata": {
    "collapsed": true,
    "pycharm": {
     "name": "#%% md\n"
    }
   },
   "source": [
    "# MCNN - PyTorch Implementation\n",
    "**Author**: Johannes S. Fischer"
   ]
  },
  {
   "cell_type": "code",
   "execution_count": 11,
   "outputs": [],
   "source": [
    "import numpy as np\n",
    "import matplotlib.pyplot as plt\n",
    "import torch\n",
    "import torchmetrics\n",
    "\n",
    "from model import MCNN\n",
    "from transforms import Identity, MovingAvg, Downsample\n",
    "from dataloader import ECG5000"
   ],
   "metadata": {
    "collapsed": false,
    "pycharm": {
     "name": "#%%\n"
    }
   }
  },
  {
   "cell_type": "markdown",
   "source": [
    "## Data\n",
    "Using the `ECG5000` dataset for testing. Information can be found [here](https://timeseriesclassification.com/description.php?Dataset=ECG5000)."
   ],
   "metadata": {
    "collapsed": false,
    "pycharm": {
     "name": "#%% md\n"
    }
   }
  },
  {
   "cell_type": "code",
   "execution_count": 8,
   "outputs": [
    {
     "name": "stdout",
     "output_type": "stream",
     "text": [
      "Train: (500, 141)\n",
      "Test: (4500, 141)\n"
     ]
    },
    {
     "data": {
      "text/plain": "<Figure size 1008x432 with 2 Axes>",
      "image/png": "[encoded data removed]"
     },
     "metadata": {
      "needs_background": "light"
     },
     "output_type": "display_data"
    }
   ],
   "source": [
    "train_data = np.loadtxt('./data/ECG5000_TRAIN.txt')\n",
    "test_data = np.loadtxt('./data/ECG5000_TEST.txt')\n",
    "\n",
    "print(\"Train:\", train_data.shape)\n",
    "print(\"Test:\", test_data.shape)\n",
    "\n",
    "Y_train = train_data[:, 0]\n",
    "Y_test = test_data[:, 0]\n",
    "\n",
    "n_classes = len(np.unique(Y_train))\n",
    "\n",
    "plt.subplots(1,2,figsize=(14,6))\n",
    "plt.subplot(1,2,1)\n",
    "plt.hist(Y_train)\n",
    "plt.title('Training Class Distribution')\n",
    "plt.subplot(1,2,2)\n",
    "plt.hist(Y_test)\n",
    "plt.title('Test Class Distribution')\n",
    "plt.show()"
   ],
   "metadata": {
    "collapsed": false,
    "pycharm": {
     "name": "#%%\n"
    }
   }
  },
  {
   "cell_type": "markdown",
   "source": [
    "Reshape for `PyTorch` to have $(n, c, l)$ with $n$ being the number of samples, $c$ being the number of channels, which is one for this univariate dataset, and $l$ being the length, using the `ECG5000` dataloader."
   ],
   "metadata": {
    "collapsed": false,
    "pycharm": {
     "name": "#%% md\n"
    }
   }
  },
  {
   "cell_type": "code",
   "execution_count": 4,
   "outputs": [],
   "source": [
    "training_data = ECG5000(train_data)\n",
    "test_data = ECG5000(test_data)\n",
    "\n",
    "train_loader = torch.utils.data.DataLoader(training_data, batch_size=32, shuffle=True)\n",
    "test_loader = torch.utils.data.DataLoader(test_data, batch_size=32, shuffle=True)"
   ],
   "metadata": {
    "collapsed": false,
    "pycharm": {
     "name": "#%%\n"
    }
   }
  },
  {
   "cell_type": "markdown",
   "source": [
    "## Model\n",
    "Creating a single model without applying grid search."
   ],
   "metadata": {
    "collapsed": false,
    "pycharm": {
     "name": "#%% md\n"
    }
   }
  },
  {
   "cell_type": "code",
   "execution_count": 15,
   "outputs": [
    {
     "name": "stdout",
     "output_type": "stream",
     "text": [
      "MCNN(\n",
      "  (branches): ModuleList(\n",
      "    (0): Sequential(\n",
      "      (identity_transform): Identity()\n",
      "      (identity_conv): Conv1d(1, 256, kernel_size=(7,), stride=(1,), padding=same)\n",
      "      (identity_activation): ReLU()\n",
      "      (identity_pool): MaxPool1d(kernel_size=35, stride=35, padding=0, dilation=1, ceil_mode=False)\n",
      "    )\n",
      "    (1): Sequential(\n",
      "      (movingAvg_3_transform): MovingAvg()\n",
      "      (movingAvg_3_conv): Conv1d(1, 256, kernel_size=(7,), stride=(1,), padding=same)\n",
      "      (movingAvg_3_activation): ReLU()\n",
      "      (movingAvg_3_pool): MaxPool1d(kernel_size=34, stride=34, padding=0, dilation=1, ceil_mode=False)\n",
      "    )\n",
      "    (2): Sequential(\n",
      "      (movingAvg_4_transform): MovingAvg()\n",
      "      (movingAvg_4_conv): Conv1d(1, 256, kernel_size=(7,), stride=(1,), padding=same)\n",
      "      (movingAvg_4_activation): ReLU()\n",
      "      (movingAvg_4_pool): MaxPool1d(kernel_size=34, stride=34, padding=0, dilation=1, ceil_mode=False)\n",
      "    )\n",
      "    (3): Sequential(\n",
      "      (movingAvg_5_transform): MovingAvg()\n",
      "      (movingAvg_5_conv): Conv1d(1, 256, kernel_size=(7,), stride=(1,), padding=same)\n",
      "      (movingAvg_5_activation): ReLU()\n",
      "      (movingAvg_5_pool): MaxPool1d(kernel_size=34, stride=34, padding=0, dilation=1, ceil_mode=False)\n",
      "    )\n",
      "    (4): Sequential(\n",
      "      (downsample_2_transform): Downsample()\n",
      "      (downsample_2_conv): Conv1d(1, 256, kernel_size=(7,), stride=(1,), padding=same)\n",
      "      (downsample_2_activation): ReLU()\n",
      "      (downsample_2_pool): MaxPool1d(kernel_size=17, stride=17, padding=0, dilation=1, ceil_mode=False)\n",
      "    )\n",
      "    (5): Sequential(\n",
      "      (downsample_3_transform): Downsample()\n",
      "      (downsample_3_conv): Conv1d(1, 256, kernel_size=(7,), stride=(1,), padding=same)\n",
      "      (downsample_3_activation): ReLU()\n",
      "      (downsample_3_pool): MaxPool1d(kernel_size=11, stride=11, padding=0, dilation=1, ceil_mode=False)\n",
      "    )\n",
      "  )\n",
      "  (full_conv): Conv1d(1536, 256, kernel_size=(4,), stride=(1,), padding=same)\n",
      "  (full_conv_pool): MaxPool1d(kernel_size=1, stride=1, padding=0, dilation=1, ceil_mode=False)\n",
      "  (flatten): Flatten(start_dim=1, end_dim=-1)\n",
      "  (fc): Linear(in_features=1024, out_features=256, bias=True)\n",
      "  (output): Linear(in_features=256, out_features=5, bias=False)\n",
      "  (softmax): Softmax(dim=1)\n",
      ")\n"
     ]
    }
   ],
   "source": [
    "transformations = {\n",
    "    'identity': {\n",
    "        'class': Identity,\n",
    "        'params': []\n",
    "    },\n",
    "    'movingAvg': {\n",
    "        'class': MovingAvg,\n",
    "        'params': [3,4,5]       # window sizes\n",
    "    },\n",
    "    'downsample': {\n",
    "        'class': Downsample,\n",
    "        'params': [2,3]       # sampling rates\n",
    "    }\n",
    "}\n",
    "\n",
    "ts_length = 140\n",
    "ts_shape = (1, ts_length)\n",
    "pool_factor = 4\n",
    "kernel_size = int(ts_length*0.05)\n",
    "\n",
    "model = MCNN(ts_shape, n_classes, pool_factor, kernel_size, transformations)\n",
    "\n",
    "optim = torch.optim.Adam(model.parameters())\n",
    "\n",
    "print(model)"
   ],
   "metadata": {
    "collapsed": false,
    "pycharm": {
     "name": "#%%\n"
    }
   }
  },
  {
   "cell_type": "markdown",
   "source": [
    "## Training"
   ],
   "metadata": {
    "collapsed": false,
    "pycharm": {
     "name": "#%% md\n"
    }
   }
  },
  {
   "cell_type": "code",
   "execution_count": 16,
   "outputs": [
    {
     "name": "stdout",
     "output_type": "stream",
     "text": [
      "Epoch 1/4\tTrain Loss: 1.0954\tTest Loss: 1.0026\tTrain Accuracy: 92.87%\tTest Accuracy: 96.08%\n",
      "Epoch 2/4\tTrain Loss: 0.9927\tTest Loss: 1.0149\tTrain Accuracy: 96.52%\tTest Accuracy: 95.60%\n",
      "Epoch 3/4\tTrain Loss: 1.0039\tTest Loss: 0.9975\tTrain Accuracy: 96.00%\tTest Accuracy: 96.29%\n",
      "Epoch 4/4\tTrain Loss: 0.9822\tTest Loss: 0.9937\tTrain Accuracy: 96.91%\tTest Accuracy: 96.43%\n"
     ]
    }
   ],
   "source": [
    "EPOCHS = 4\n",
    "\n",
    "results = {'loss': [], 'val_loss': [], 'acc': [], 'val_acc': []}\n",
    "\n",
    "for epoch in range(EPOCHS):\n",
    "\n",
    "    # training\n",
    "    model.train()\n",
    "    epoch_losses = []\n",
    "    epoch_accuracies = []\n",
    "    for x, y in train_loader:\n",
    "        yhat = model.forward(x)\n",
    "\n",
    "        loss = torch.nn.CrossEntropyLoss()(yhat, y)\n",
    "        optim.zero_grad()\n",
    "        loss.backward()\n",
    "        optim.step()\n",
    "\n",
    "        epoch_losses.append(loss.item())\n",
    "        acc = torchmetrics.functional.accuracy(yhat, y.int())\n",
    "        epoch_accuracies.append(acc)\n",
    "\n",
    "    epoch_loss = np.mean(epoch_losses)\n",
    "    epoch_acc = np.mean(epoch_accuracies)\n",
    "\n",
    "    # validation\n",
    "    model.eval()\n",
    "    epoch_val_losses = []\n",
    "    epoch_val_accuracies = []\n",
    "    with torch.no_grad():\n",
    "        for x, y in test_loader:\n",
    "            yhat = model.forward(x)\n",
    "            loss = torch.nn.CrossEntropyLoss()(yhat, y)\n",
    "            epoch_val_losses.append(loss.item())\n",
    "            acc = torchmetrics.functional.accuracy(yhat, y.int())\n",
    "            epoch_val_accuracies.append(acc)\n",
    "\n",
    "    epoch_val_loss = np.mean(epoch_val_losses)\n",
    "    epoch_val_acc = np.mean(epoch_val_accuracies)\n",
    "\n",
    "    # populate results\n",
    "    results['loss'].append( epoch_loss )\n",
    "    results['val_loss'].append( epoch_val_loss )\n",
    "    results['acc'].append( epoch_acc )\n",
    "    results['val_acc'].append( epoch_val_acc )\n",
    "\n",
    "    #if (epoch+1) % 5 == 0 or epoch+1 == EPOCHS:\n",
    "    print(\"Epoch {}/{}\\tTrain Loss: {:.4f}\\tTest Loss: {:.4f}\\tTrain Accuracy: {:.2f}%\\tTest Accuracy: {:.2f}%\".format(\n",
    "            epoch+1, EPOCHS, epoch_loss, epoch_val_loss, epoch_acc*100, epoch_val_acc*100) )"
   ],
   "metadata": {
    "collapsed": false,
    "pycharm": {
     "name": "#%%\n"
    }
   }
  },
  {
   "cell_type": "markdown",
   "source": [
    "## Results"
   ],
   "metadata": {
    "collapsed": false,
    "pycharm": {
     "name": "#%% md\n"
    }
   }
  },
  {
   "cell_type": "code",
   "execution_count": 20,
   "outputs": [
    {
     "data": {
      "text/plain": "<Figure size 1152x360 with 2 Axes>",
      "image/png": "[encoded data removed]"
     },
     "metadata": {
      "needs_background": "light"
     },
     "output_type": "display_data"
    }
   ],
   "source": [
    "plt.subplots(1, 2, figsize=(16, 5))\n",
    "\n",
    "plt.subplot(121)\n",
    "plt.plot(results['loss'], label='Training')\n",
    "plt.plot(results['val_loss'], label='Test')\n",
    "plt.grid('on')\n",
    "plt.legend()\n",
    "plt.title('Loss')\n",
    "\n",
    "plt.subplot(122)\n",
    "plt.plot(results['acc'], label='Training')\n",
    "plt.plot(results['val_acc'], label='Test')\n",
    "plt.grid('on')\n",
    "plt.legend()\n",
    "plt.title('Accuracy')\n",
    "\n",
    "plt.show()"
   ],
   "metadata": {
    "collapsed": false,
    "pycharm": {
     "name": "#%%\n"
    }
   }
  },
  {
   "cell_type": "markdown",
   "source": [
    "---"
   ],
   "metadata": {
    "collapsed": false,
    "pycharm": {
     "name": "#%% md\n"
    }
   }
  }
 ],
 "metadata": {
  "kernelspec": {
   "display_name": "Python 3",
   "language": "python",
   "name": "python3"
  },
  "language_info": {
   "codemirror_mode": {
    "name": "ipython",
    "version": 2
   },
   "file_extension": ".py",
   "mimetype": "text/x-python",
   "name": "python",
   "nbconvert_exporter": "python",
   "pygments_lexer": "ipython2",
   "version": "2.7.6"
  }
 },
 "nbformat": 4,
 "nbformat_minor": 0
}